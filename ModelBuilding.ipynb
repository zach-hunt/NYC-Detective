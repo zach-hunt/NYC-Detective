{
 "cells": [
  {
   "cell_type": "markdown",
   "id": "6d11b79d-e07d-41e1-83c2-8a86e46808d2",
   "metadata": {},
   "source": [
    "# Imports"
   ]
  },
  {
   "cell_type": "code",
   "execution_count": null,
   "id": "4dccc9a2-d140-41bb-8628-80832d8b4521",
   "metadata": {},
   "outputs": [],
   "source": [
    "import pickle\n",
    "from skimage import io"
   ]
  },
  {
   "cell_type": "markdown",
   "id": "cfd12f13-25de-4d9f-a217-f2f5863ed775",
   "metadata": {},
   "source": [
    "# Code From Zach"
   ]
  },
  {
   "cell_type": "code",
   "execution_count": null,
   "id": "81811cf5-b44c-452d-b322-4ee6e1b7ee35",
   "metadata": {},
   "outputs": [],
   "source": [
    "input_directory = \"./data/\"\n",
    "photo_directory = input_directory + \"processed/\"\n",
    "with open(input_directory + \"PhotoTable.p\", 'rb') as pickle_file:\n",
    "    photo_info = pickle.load(pickle_file)\n",
    "photo_info"
   ]
  },
  {
   "cell_type": "code",
   "execution_count": null,
   "id": "37e21ce3-9188-41e4-b618-2e0b9d0655b1",
   "metadata": {},
   "outputs": [],
   "source": [
    "sample_photo = io.imread(photo_directory + photo_info.loc['1_1', 'Filename'])\n",
    "io.imshow(sample_photo)\n",
    "sample_photo.shape"
   ]
  },
  {
   "cell_type": "markdown",
   "id": "147a6881",
   "metadata": {},
   "source": [
    "# model setup"
   ]
  },
  {
   "cell_type": "code",
   "execution_count": null,
   "id": "2e5e93f7",
   "metadata": {},
   "outputs": [],
   "source": [
    "import numpy as np # linear algebra\n",
    "import pandas as pd # data processing, CSV file I/O (e.g. pd.read_csv)\n",
    "from keras.preprocessing.image import ImageDataGenerator,img_to_array,load_img\n",
    "from keras.models import Sequential\n",
    "from keras.layers import Dropout, Flatten, Dense  , Activation\n",
    "from keras import applications\n",
    "import re\n",
    "import os\n",
    "from PIL import Image\n"
   ]
  },
  {
   "cell_type": "code",
   "execution_count": null,
   "id": "59e33a8a",
   "metadata": {},
   "outputs": [],
   "source": [
    "img_height, img_width = sample_photo.shape\n",
    "train = photo_directory"
   ]
  },
  {
   "cell_type": "code",
   "execution_count": null,
   "id": "310f883f",
   "metadata": {},
   "outputs": [],
   "source": [
    "training = [train+i for i in os.listdir(train)]\n",
    "training[:5]"
   ]
  },
  {
   "cell_type": "code",
   "execution_count": null,
   "id": "07dd7195",
   "metadata": {},
   "outputs": [],
   "source": [
    "def atoi(text):\n",
    "    return int(text) if text.isdigit() else text\n",
    "def natural_keys(text):\n",
    "    return [ atoi(c) for c in re.split('(\\d+)', text) ]\n",
    "training.sort(key=natural_keys)\n",
    "training[:5]"
   ]
  },
  {
   "cell_type": "code",
   "execution_count": null,
   "id": "9fe56ce5",
   "metadata": {},
   "outputs": [],
   "source": [
    "#there are new york \n",
    "training[50:60]"
   ]
  },
  {
   "cell_type": "code",
   "execution_count": null,
   "id": "ee343c22",
   "metadata": {},
   "outputs": [],
   "source": [
    "def prepare_data(list_of_images):\n",
    "    x = [] # images as arrays\n",
    "    for image in list_of_images:\n",
    "        x.append(img_to_array(load_img(image,target_size=sample_photo.shape)))\n",
    "    return x"
   ]
  },
  {
   "cell_type": "code",
   "execution_count": null,
   "id": "dd71e41e",
   "metadata": {},
   "outputs": [],
   "source": [
    "X=prepare_data(training)\n",
    "X=np.array(X)\n",
    "y=np.array([0]*3000 + [1]*3000)"
   ]
  },
  {
   "cell_type": "code",
   "execution_count": null,
   "id": "31855ea3",
   "metadata": {},
   "outputs": [],
   "source": []
  },
  {
   "cell_type": "code",
   "execution_count": null,
   "id": "7e10ce60",
   "metadata": {},
   "outputs": [],
   "source": [
    "X.shape"
   ]
  },
  {
   "cell_type": "code",
   "execution_count": null,
   "id": "9a68ce1d",
   "metadata": {},
   "outputs": [],
   "source": [
    "batch_size = 16\n",
    "model = Sequential()\n",
    "#input layer\n",
    "model.add(Flatten(input_shape=X.shape[1:]))\n",
    "\n",
    "# first hidden layer\n",
    "model.add(Dense(units=256,activation='relu'))\n",
    "model.add(Dropout(0.4))\n",
    "\n",
    "# Second hidden layer\n",
    "model.add(Dense(units=126,activation='relu'))\n",
    "model.add(Dropout(0.4))\n",
    "\n",
    "#output layer\n",
    "model.add(Dense(1, activation='sigmoid'))\n",
    "model.compile(optimizer='rmsprop',\n",
    "                  loss='binary_crossentropy', metrics=['accuracy'])\n",
    "\n",
    "#fitting the model\n",
    "history=model.fit(x=X ,y= photo_info.Target,\n",
    "                  epochs=10,\n",
    "                  batch_size=batch_size,\n",
    "                  )"
   ]
  },
  {
   "cell_type": "code",
   "execution_count": null,
   "id": "22406028",
   "metadata": {},
   "outputs": [],
   "source": [
    "model.save('city_v1.h5')\n"
   ]
  },
  {
   "cell_type": "code",
   "execution_count": null,
   "id": "fe72ef73",
   "metadata": {},
   "outputs": [],
   "source": [
    "import keras\n",
    "city_model = keras.models.load_model('./city_v1.h5')"
   ]
  },
  {
   "cell_type": "code",
   "execution_count": null,
   "id": "fb345054",
   "metadata": {},
   "outputs": [],
   "source": [
    "input_directory = \"./data/test/\"\n",
    "testing = [input_directory+i for i in os.listdir(input_directory)]\n",
    "testing.sort(key=natural_keys)\n",
    "Xt=prepare_data(testing[:])\n",
    "Xt=np.array(Xt)"
   ]
  },
  {
   "cell_type": "code",
   "execution_count": null,
   "id": "318cc824",
   "metadata": {},
   "outputs": [],
   "source": [
    "Xt.shape"
   ]
  },
  {
   "cell_type": "code",
   "execution_count": null,
   "id": "1dc70162",
   "metadata": {},
   "outputs": [],
   "source": [
    "pred = city_model.predict(Xt)"
   ]
  },
  {
   "cell_type": "code",
   "execution_count": null,
   "id": "147a9055",
   "metadata": {},
   "outputs": [],
   "source": [
    "pred"
   ]
  },
  {
   "cell_type": "code",
   "execution_count": null,
   "id": "64e0d510-8391-420f-bf6b-7b5d75c7ad35",
   "metadata": {},
   "outputs": [],
   "source": []
  }
 ],
 "metadata": {
  "kernelspec": {
   "display_name": "Python 3 (ipykernel)",
   "language": "python",
   "name": "python3"
  },
  "language_info": {
   "codemirror_mode": {
    "name": "ipython",
    "version": 3
   },
   "file_extension": ".py",
   "mimetype": "text/x-python",
   "name": "python",
   "nbconvert_exporter": "python",
   "pygments_lexer": "ipython3",
   "version": "3.10.6"
  }
 },
 "nbformat": 4,
 "nbformat_minor": 5
}
