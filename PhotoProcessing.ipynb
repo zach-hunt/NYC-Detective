{
 "cells": [
  {
   "cell_type": "markdown",
   "id": "205a10d5-66c4-478f-850e-fb8dcdbbe770",
   "metadata": {},
   "source": [
    "# Photo Processing\n",
    "Data Drawn from [Kaggle](https://www.kaggle.com/datasets/vassiliskrikonis/skylines-12/)  \n",
    "Code from Zachary Hunt"
   ]
  },
  {
   "cell_type": "markdown",
   "id": "c04bf45f-9228-4aa0-8d29-be37a21395d2",
   "metadata": {},
   "source": [
    "# Imports"
   ]
  },
  {
   "cell_type": "code",
   "execution_count": 1,
   "id": "36408aa5-2ce7-4d27-8e41-4de5b8e5e9ea",
   "metadata": {},
   "outputs": [],
   "source": [
    "import os\n",
    "import pickle\n",
    "import numpy as np\n",
    "import pandas as pd\n",
    "from IPython.display import clear_output\n",
    "\n",
    "import skimage\n",
    "from skimage import io\n",
    "from skimage.transform import rescale, resize\n",
    "\n",
    "from icecream import ic\n",
    "from natsort import natsorted, ns"
   ]
  },
  {
   "cell_type": "markdown",
   "id": "3317418a-ceb5-4c00-8638-230f2b699029",
   "metadata": {},
   "source": [
    "# Constants"
   ]
  },
  {
   "cell_type": "code",
   "execution_count": 2,
   "id": "a91826f5-27b2-4d14-bc31-98fc6a1de7f6",
   "metadata": {},
   "outputs": [],
   "source": [
    "citymap = {'1': \"Chicago\",\n",
    "           '2': \"Dallas\",\n",
    "           '3': \"Frankfurt\",\n",
    "           '4': \"HongKong\",\n",
    "           '5': \"Miami\",\n",
    "           '6': \"NewYork\",\n",
    "           '7': \"Philadelphia\",\n",
    "           '8': \"Seattle\",\n",
    "           '9': \"Shanghai\",\n",
    "           '10': \"Singapore\",\n",
    "           '11': \"Tokyo\",\n",
    "           '12': \"Toronto\", }\n",
    "resize_border_color = {\"Black\": 0, \"Gray\": 0.5, \"White\": 1}[\"Black\"]  # Currently unuszed: images are just scaled\n",
    "input_directory = \"./data/input/\"\n",
    "output_directory = \"./data/processed/\""
   ]
  },
  {
   "cell_type": "code",
   "execution_count": 3,
   "id": "8c7604df-c883-4b97-84ed-3896adf45f56",
   "metadata": {},
   "outputs": [],
   "source": [
    "image_names = natsorted(os.listdir(input_directory))  # Files List"
   ]
  },
  {
   "cell_type": "code",
   "execution_count": 4,
   "id": "73754614-373b-484d-91a8-c0d251939683",
   "metadata": {},
   "outputs": [
    {
     "name": "stderr",
     "output_type": "stream",
     "text": [
      "ic| target_dim: (3744, 5616)\n"
     ]
    }
   ],
   "source": [
    "# Find upscaling dimensions & Load images\n",
    "dimensions = set()\n",
    "for image_name in image_names:\n",
    "    # Load each image twice to fit within RAM\n",
    "    img = io.imread(input_directory + image_name)\n",
    "    dimensions.add(img.shape)\n",
    "\n",
    "target_dim = max(dimensions)[:2]\n",
    "ic(target_dim);"
   ]
  },
  {
   "cell_type": "code",
   "execution_count": 5,
   "id": "2664a228-2d7f-4bd9-bc2e-61daed699deb",
   "metadata": {},
   "outputs": [],
   "source": [
    "# Save Out Images as JPEGs\n",
    "for image_name in image_names:\n",
    "    # print(image_name, sep=\", \")\n",
    "    scaled_bw_img = resize(skimage.color.rgb2gray(io.imread(input_directory + image_name)), target_dim)\n",
    "    io.imsave(output_directory + image_name, skimage.img_as_ubyte(scaled_bw_img))"
   ]
  },
  {
   "cell_type": "code",
   "execution_count": 6,
   "id": "8844cb56-6825-4886-b667-9475ccede53e",
   "metadata": {},
   "outputs": [
    {
     "data": {
      "text/html": [
       "<div>\n",
       "<style scoped>\n",
       "    .dataframe tbody tr th:only-of-type {\n",
       "        vertical-align: middle;\n",
       "    }\n",
       "\n",
       "    .dataframe tbody tr th {\n",
       "        vertical-align: top;\n",
       "    }\n",
       "\n",
       "    .dataframe thead th {\n",
       "        text-align: right;\n",
       "    }\n",
       "</style>\n",
       "<table border=\"1\" class=\"dataframe\">\n",
       "  <thead>\n",
       "    <tr style=\"text-align: right;\">\n",
       "      <th></th>\n",
       "      <th>Filename</th>\n",
       "      <th>City</th>\n",
       "      <th>Target</th>\n",
       "    </tr>\n",
       "    <tr>\n",
       "      <th>File</th>\n",
       "      <th></th>\n",
       "      <th></th>\n",
       "      <th></th>\n",
       "    </tr>\n",
       "  </thead>\n",
       "  <tbody>\n",
       "    <tr>\n",
       "      <th>1_1</th>\n",
       "      <td>1_1.jpg</td>\n",
       "      <td>Chicago</td>\n",
       "      <td>False</td>\n",
       "    </tr>\n",
       "    <tr>\n",
       "      <th>1_2</th>\n",
       "      <td>1_2.jpg</td>\n",
       "      <td>Chicago</td>\n",
       "      <td>False</td>\n",
       "    </tr>\n",
       "    <tr>\n",
       "      <th>1_3</th>\n",
       "      <td>1_3.jpg</td>\n",
       "      <td>Chicago</td>\n",
       "      <td>False</td>\n",
       "    </tr>\n",
       "    <tr>\n",
       "      <th>1_4</th>\n",
       "      <td>1_4.jpg</td>\n",
       "      <td>Chicago</td>\n",
       "      <td>False</td>\n",
       "    </tr>\n",
       "    <tr>\n",
       "      <th>1_5</th>\n",
       "      <td>1_5.jpg</td>\n",
       "      <td>Chicago</td>\n",
       "      <td>False</td>\n",
       "    </tr>\n",
       "    <tr>\n",
       "      <th>...</th>\n",
       "      <td>...</td>\n",
       "      <td>...</td>\n",
       "      <td>...</td>\n",
       "    </tr>\n",
       "    <tr>\n",
       "      <th>12_6</th>\n",
       "      <td>12_6.jpg</td>\n",
       "      <td>Toronto</td>\n",
       "      <td>False</td>\n",
       "    </tr>\n",
       "    <tr>\n",
       "      <th>12_7</th>\n",
       "      <td>12_7.jpg</td>\n",
       "      <td>Toronto</td>\n",
       "      <td>False</td>\n",
       "    </tr>\n",
       "    <tr>\n",
       "      <th>12_8</th>\n",
       "      <td>12_8.jpg</td>\n",
       "      <td>Toronto</td>\n",
       "      <td>False</td>\n",
       "    </tr>\n",
       "    <tr>\n",
       "      <th>12_9</th>\n",
       "      <td>12_9.jpg</td>\n",
       "      <td>Toronto</td>\n",
       "      <td>False</td>\n",
       "    </tr>\n",
       "    <tr>\n",
       "      <th>12_10</th>\n",
       "      <td>12_10.jpg</td>\n",
       "      <td>Toronto</td>\n",
       "      <td>False</td>\n",
       "    </tr>\n",
       "  </tbody>\n",
       "</table>\n",
       "<p>120 rows × 3 columns</p>\n",
       "</div>"
      ],
      "text/plain": [
       "        Filename     City  Target\n",
       "File                             \n",
       "1_1      1_1.jpg  Chicago   False\n",
       "1_2      1_2.jpg  Chicago   False\n",
       "1_3      1_3.jpg  Chicago   False\n",
       "1_4      1_4.jpg  Chicago   False\n",
       "1_5      1_5.jpg  Chicago   False\n",
       "...          ...      ...     ...\n",
       "12_6    12_6.jpg  Toronto   False\n",
       "12_7    12_7.jpg  Toronto   False\n",
       "12_8    12_8.jpg  Toronto   False\n",
       "12_9    12_9.jpg  Toronto   False\n",
       "12_10  12_10.jpg  Toronto   False\n",
       "\n",
       "[120 rows x 3 columns]"
      ]
     },
     "execution_count": 6,
     "metadata": {},
     "output_type": "execute_result"
    }
   ],
   "source": [
    "images_df = pd.DataFrame(index=image_names)\n",
    "images_df.index.name = \"Filename\"\n",
    "images_df.reset_index(inplace=True)\n",
    "images_df.index = images_df[\"Filename\"].str.strip('.jpg')\n",
    "images_df.index.name = \"File\"\n",
    "images_df[\"City\"] = images_df[\"Filename\"].apply(lambda name: citymap[name.split('_')[0]])\n",
    "images_df[\"Target\"] = images_df[\"City\"] == \"NewYork\"\n",
    "images_df"
   ]
  },
  {
   "cell_type": "code",
   "execution_count": 7,
   "id": "5becf4eb-06f1-4b35-9a96-dc988106c3e1",
   "metadata": {},
   "outputs": [],
   "source": [
    "# Save to Pickle\n",
    "with open(output_directory + \"PhotoTable.p\", 'wb') as pickle_file:\n",
    "    pickle.dump(images_df, pickle_file)"
   ]
  }
 ],
 "metadata": {
  "kernelspec": {
   "display_name": "Python [conda env:datasci] *",
   "language": "python",
   "name": "conda-env-datasci-py"
  },
  "language_info": {
   "codemirror_mode": {
    "name": "ipython",
    "version": 3
   },
   "file_extension": ".py",
   "mimetype": "text/x-python",
   "name": "python",
   "nbconvert_exporter": "python",
   "pygments_lexer": "ipython3",
   "version": "3.10.6"
  }
 },
 "nbformat": 4,
 "nbformat_minor": 5
}
