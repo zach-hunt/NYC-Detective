{
 "cells": [
  {
   "cell_type": "markdown",
   "id": "205a10d5-66c4-478f-850e-fb8dcdbbe770",
   "metadata": {},
   "source": [
    "# Photo Processing\n",
    "Data Drawn from [Kaggle](https://www.kaggle.com/datasets/vassiliskrikonis/skylines-12/)  \n",
    "Code from Zachary Hunt"
   ]
  },
  {
   "cell_type": "markdown",
   "id": "c04bf45f-9228-4aa0-8d29-be37a21395d2",
   "metadata": {},
   "source": [
    "# Imports"
   ]
  },
  {
   "cell_type": "code",
   "execution_count": null,
   "id": "36408aa5-2ce7-4d27-8e41-4de5b8e5e9ea",
   "metadata": {},
   "outputs": [],
   "source": []
  }
 ],
 "metadata": {
  "kernelspec": {
   "display_name": "Python [conda env:datasci] *",
   "language": "python",
   "name": "conda-env-datasci-py"
  },
  "language_info": {
   "codemirror_mode": {
    "name": "ipython",
    "version": 3
   },
   "file_extension": ".py",
   "mimetype": "text/x-python",
   "name": "python",
   "nbconvert_exporter": "python",
   "pygments_lexer": "ipython3",
   "version": "3.10.6"
  }
 },
 "nbformat": 4,
 "nbformat_minor": 5
}
